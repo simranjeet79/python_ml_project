import pyttsx3
import speech_recognition as sr
import requests
import geocoder
from geopy.distance import great_circle
import webbrowser
from bs4 import BeautifulSoup
import pyjokes
import datetime
import wikipedia
import pywhatkit
from playsound import playsound
from pywikihow import search_wikihow
from requests import get, request
import sys
import os
import smtplib
import speedtest
import pyautogui
from keyboard import press_and_release, press
import time  # Added for delay

# Initialize pyttsx3
engine = pyttsx3.init()
voices = engine.getProperty('voices')
# Set to male voice (index may vary)
engine.setProperty('voice', voices[0].id)
engine.setProperty('rate', 175)

def speak(audio):
    engine.say(audio)
    engine.runAndWait()

def takeCommand():
    r = sr.Recognizer()
    with sr.Microphone() as source:
        print("Listening...")
        r.pause_threshold = 1
        audio = r.listen(source, 0, 4)

    try:
        print("Recognizing...")
        query = r.recognize_google(audio, language='en-in')
        print(f"User said: {query}\n")

    except Exception as e:
        print("Say that again please...")
        return "None"
    return query

def My_Location():
    speak("Connecting to the cloud...")
    ip_add = requests.get('https://api.ipify.org').text
    url = 'https://get.geojs.io/v1/ip/geo/' + ip_add + '.json'
    geo_q = requests.get(url)
    geo_d = geo_q.json()
    state = geo_d['city']
    country = geo_d['country']
    print(f'{state}, {country}')
    speak(f"Your current location is {state}, {country}")

def GoogleMaps(Place):
    Url_Place = "https://www.google.com/maps/place/" + str(Place)
    webbrowser.open(url=Url_Place)
    speak(f"Here is the location of {Place} on Google Maps.")

def Dateconverter(Query):
    Date = Query.replace("and", "-")
    Date = Date.replace(" ", "")
    return str(Date)

def Temp():
    search = "temperature in my current location"
    url = f"https://www.google.com/search?q={search}"
    r = requests.get(url)
    data = BeautifulSoup(r.text, "html.parser")
    temperature = data.find("div", class_="BNeawe").text
    speak(f"The temperature outside is {temperature} Celsius.")
    speak("Do I have to tell you the temperature of another place?")
    next = takeCommand()
    if 'yes' in next:
        speak("Tell me the name of the place.")
        name = takeCommand()
        search = f"temperature in {name}"
        url = f"https://www.google.com/search?q={search}"
        r = requests.get(url)
        data = BeautifulSoup(r.text, "html.parser")
        temperature = data.find("div", class_="BNeawe").text
        speak(f"The temperature in {name} is {temperature} Celsius.")
    else:
        speak("No problem, sir.")

def WindowsAuto(command):
    query = str(command)
    if 'home screen' in query or 'minimize' in query:
        pyautogui.hotkey('win', 'm')
    elif 'show start' in query:
        pyautogui.press('win')
    elif 'open setting' in query:
        pyautogui.hotkey('win', 'i')
    elif 'open search' in query:
        pyautogui.hotkey('win', 's')
    elif 'screen shot' in query:
        pyautogui.hotkey('win', 'shift', 's')
    elif 'restore windows' in query:
        pyautogui.hotkey('win', 'shift', 'm')

def YouTubeAuto(command):
    query = str(command)
    time.sleep(2)  # Added delay to ensure the page is loaded
    if 'pause' in query or 'resume' in query:
        pyautogui.press('space')
    elif 'full screen' in query:
        pyautogui.press('f')
    elif 'film screen' in query:
        pyautogui.press('t')
    elif 'skip' in query:
        pyautogui.press('l')
    elif 'back' in query:
        pyautogui.press('j')
    elif 'increase' in query:
        pyautogui.hotkey('shift', '.')
    elif 'decrease' in query:
        pyautogui.hotkey('shift', ',')
    elif 'previous' in query:
        pyautogui.hotkey('shift', 'p')
    elif 'next' in query:
        pyautogui.hotkey('shift', 'n')
    elif 'mute' in query or 'unmute' in query:
        pyautogui.press('m')

def sign_off():
    speak("Goodbye,Signing off here, Jaypea.")
    print("Goodbye,Signing off here, Jaypea.")

def main():
    speak("Hello, I am your personal assistant Jaypea. How may I help you today?")
    
    while True:
        command = takeCommand().lower()

        if 'open youtube' in command:
            speak("Opening YouTube")
            webbrowser.open("https://www.youtube.com")
            speak("Which video would you like to play?")
            video = takeCommand()
            speak(f"Searching for {video} on YouTube.")
            pywhatkit.playonyt(video)
        elif 'my location' in command:
            My_Location()
        elif 'google maps' in command:
            speak("What place should I look up?")
            place = takeCommand()
            GoogleMaps(place)
        elif 'convert date' in command:
            speak("Please tell me the date to convert.")
            query = takeCommand()
            date = Dateconverter(query)
            speak(f"The converted date is {date}")
        elif 'temperature' in command:
            Temp()
        elif 'windows' in command:
            WindowsAuto(command)
        elif 'youtube' in command:
            YouTubeAuto(command)
        elif 'exit' in command or 'goodbye' in command:
            sign_off()
            break

if __name__ == "__main__":
    main()
